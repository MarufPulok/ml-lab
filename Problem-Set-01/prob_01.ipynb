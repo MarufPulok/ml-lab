{
  "nbformat": 4,
  "nbformat_minor": 0,
  "metadata": {
    "colab": {
      "provenance": []
    },
    "kernelspec": {
      "name": "python3",
      "display_name": "Python 3"
    },
    "language_info": {
      "name": "python"
    }
  },
  "cells": [
    {
      "cell_type": "code",
      "execution_count": 6,
      "metadata": {
        "colab": {
          "base_uri": "https://localhost:8080/"
        },
        "id": "7fO62TnquGbs",
        "outputId": "7deb11e2-b189-41e2-c7a8-b0e1dfc77731"
      },
      "outputs": [
        {
          "output_type": "stream",
          "name": "stdout",
          "text": [
            "Drive already mounted at /content/gdrive; to attempt to forcibly remount, call drive.mount(\"/content/gdrive\", force_remount=True).\n",
            "Found 5216 files belonging to 2 classes.\n",
            "Using 4173 files for training.\n",
            "Found 16 files belonging to 2 classes.\n",
            "Using 3 files for validation.\n",
            "Found 624 files belonging to 2 classes.\n",
            "Epoch 1/10\n",
            "131/131 [==============================] - 620s 4s/step - loss: 0.3478 - accuracy: 0.8555 - val_loss: 0.0083 - val_accuracy: 1.0000\n",
            "Epoch 2/10\n",
            "131/131 [==============================] - 543s 4s/step - loss: 0.0998 - accuracy: 0.9621 - val_loss: 0.0128 - val_accuracy: 1.0000\n",
            "Epoch 3/10\n",
            "131/131 [==============================] - 540s 4s/step - loss: 0.1068 - accuracy: 0.9597 - val_loss: 0.0204 - val_accuracy: 1.0000\n",
            "Epoch 4/10\n",
            "131/131 [==============================] - 531s 4s/step - loss: 0.0736 - accuracy: 0.9758 - val_loss: 0.0048 - val_accuracy: 1.0000\n",
            "Epoch 5/10\n",
            "131/131 [==============================] - 548s 4s/step - loss: 0.0457 - accuracy: 0.9851 - val_loss: 0.0017 - val_accuracy: 1.0000\n",
            "Epoch 6/10\n",
            "131/131 [==============================] - 536s 4s/step - loss: 0.0510 - accuracy: 0.9823 - val_loss: 9.9188e-04 - val_accuracy: 1.0000\n",
            "Epoch 7/10\n",
            "131/131 [==============================] - 543s 4s/step - loss: 0.0431 - accuracy: 0.9832 - val_loss: 3.2734e-04 - val_accuracy: 1.0000\n",
            "Epoch 8/10\n",
            "131/131 [==============================] - 540s 4s/step - loss: 0.0244 - accuracy: 0.9911 - val_loss: 1.2847e-04 - val_accuracy: 1.0000\n",
            "Epoch 9/10\n",
            "131/131 [==============================] - 529s 4s/step - loss: 0.0351 - accuracy: 0.9863 - val_loss: 0.0037 - val_accuracy: 1.0000\n",
            "Epoch 10/10\n",
            "131/131 [==============================] - 523s 4s/step - loss: 0.0233 - accuracy: 0.9907 - val_loss: 3.5481e-04 - val_accuracy: 1.0000\n",
            "20/20 [==============================] - 66s 2s/step - loss: 1.5789 - accuracy: 0.7788\n"
          ]
        },
        {
          "output_type": "execute_result",
          "data": {
            "text/plain": [
              "[1.5789140462875366, 0.7788461446762085]"
            ]
          },
          "metadata": {},
          "execution_count": 6
        }
      ],
      "source": [
        "import tensorflow as tf\n",
        "from tensorflow import keras\n",
        "from tensorflow.keras import layers\n",
        "\n",
        "\n",
        "from google.colab import drive\n",
        "drive.mount('/content/gdrive')\n",
        "\n",
        "train_path = '/content/gdrive/MyDrive/ml-dataset/Archive/train'\n",
        "val_path = '/content/gdrive/MyDrive/ml-dataset/Archive/val'\n",
        "test_path = '/content/gdrive/MyDrive/ml-dataset/Archive/test'\n",
        "\n",
        "\n",
        "train_ds = keras.preprocessing.image_dataset_from_directory(\n",
        "    train_path,\n",
        "    validation_split=0.2,\n",
        "    subset=\"training\",\n",
        "    seed=1337,\n",
        "    image_size=(224, 224),\n",
        "    batch_size=32,\n",
        ")\n",
        "val_ds = keras.preprocessing.image_dataset_from_directory(\n",
        "    val_path,\n",
        "    validation_split=0.2,\n",
        "    subset=\"validation\",\n",
        "    seed=1337,\n",
        "    image_size=(224, 224),\n",
        "    batch_size=32,\n",
        ")\n",
        "test_ds = keras.preprocessing.image_dataset_from_directory(\n",
        "    test_path,\n",
        "    seed=1337,\n",
        "    image_size=(224, 224),\n",
        "    batch_size=32,\n",
        ")\n",
        "\n",
        "\n",
        "model = keras.Sequential(\n",
        "    [\n",
        "        layers.experimental.preprocessing.Rescaling(1.0 / 255),\n",
        "        layers.Conv2D(32, (3, 3), activation=\"relu\"),\n",
        "        layers.MaxPooling2D(pool_size=(2, 2)),\n",
        "        layers.Conv2D(64, (3, 3), activation=\"relu\"),\n",
        "        layers.MaxPooling2D(pool_size=(2, 2)),\n",
        "        layers.Conv2D(128, (3, 3), activation=\"relu\"),\n",
        "        layers.MaxPooling2D(pool_size=(2, 2)),\n",
        "        layers.Flatten(),\n",
        "        layers.Dense(128, activation=\"relu\"),\n",
        "        layers.Dense(1, activation=\"sigmoid\"),\n",
        "    ]\n",
        ")\n",
        "\n",
        "\n",
        "model.compile(optimizer=\"adam\", loss=\"binary_crossentropy\", metrics=[\"accuracy\"])\n",
        "model.fit(train_ds, validation_data=val_ds, epochs=10)\n",
        "\n",
        "\n",
        "model.evaluate(test_ds)\n"
      ]
    }
  ]
}